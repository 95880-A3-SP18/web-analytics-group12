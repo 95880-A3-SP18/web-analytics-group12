{
 "cells": [
  {
   "cell_type": "markdown",
   "metadata": {},
   "source": [
    "# RENT-IT App Data Analysis Demo\n",
    "For 95-880 @ Heinz College, CMU <br>\n",
    "Group 12\n",
    " - Part 1 - Load web scrapping data and merge files\n",
    " - Part 2 - Data cleaning and preprocessing\n",
    " - Part 3 - Exploratory data analysis\n",
    "     - Part 3.1 - Data visualization\n",
    "     - Part 3.2 - Time series analysis"
   ]
  },
  {
   "cell_type": "markdown",
   "metadata": {},
   "source": [
    "### Part 1: Load data and merge files"
   ]
  },
  {
   "cell_type": "code",
   "execution_count": 33,
   "metadata": {
    "collapsed": true
   },
   "outputs": [],
   "source": [
    "import pandas as pd\n",
    "from pandas import Series, DataFrame\n",
    "import numpy as np\n",
    "import matplotlib.pyplot as plt\n",
    "import re\n",
    "from numpy import NaN\n",
    "import glob"
   ]
  },
  {
   "cell_type": "code",
   "execution_count": 34,
   "metadata": {
    "collapsed": true
   },
   "outputs": [],
   "source": [
    "l = [pd.read_csv(filename, sep=\",\", encoding = \"ISO-8859-1\") for filename in glob.glob(\"rent_data/*.csv\")]\n",
    "rent_df = pd.concat(l, ignore_index=True)"
   ]
  },
  {
   "cell_type": "code",
   "execution_count": 35,
   "metadata": {},
   "outputs": [
    {
     "data": {
      "text/html": [
       "<div>\n",
       "<style>\n",
       "    .dataframe thead tr:only-child th {\n",
       "        text-align: right;\n",
       "    }\n",
       "\n",
       "    .dataframe thead th {\n",
       "        text-align: left;\n",
       "    }\n",
       "\n",
       "    .dataframe tbody tr th {\n",
       "        vertical-align: top;\n",
       "    }\n",
       "</style>\n",
       "<table border=\"1\" class=\"dataframe\">\n",
       "  <thead>\n",
       "    <tr style=\"text-align: right;\">\n",
       "      <th></th>\n",
       "      <th>Unnamed: 0</th>\n",
       "      <th>Available Date</th>\n",
       "      <th>Headline</th>\n",
       "      <th>Housing</th>\n",
       "      <th>Latitude</th>\n",
       "      <th>Longitude</th>\n",
       "      <th>Price</th>\n",
       "      <th>URL</th>\n",
       "    </tr>\n",
       "  </thead>\n",
       "  <tbody>\n",
       "    <tr>\n",
       "      <th>0</th>\n",
       "      <td>0</td>\n",
       "      <td>2018-02-15</td>\n",
       "      <td>Close Commute to CMU, PITT- 2 Bedroom 2 Bath- ...</td>\n",
       "      <td>/ 2br -</td>\n",
       "      <td>40.456368</td>\n",
       "      <td>-79.922573</td>\n",
       "      <td>$1545</td>\n",
       "      <td>https://pittsburgh.craigslist.org/apa/d/close-...</td>\n",
       "    </tr>\n",
       "    <tr>\n",
       "      <th>1</th>\n",
       "      <td>1</td>\n",
       "      <td>2018-02-15</td>\n",
       "      <td>Close Commute to CMU, PITT- 2 Bedroom 1 Bath- ...</td>\n",
       "      <td>/ 2br -</td>\n",
       "      <td>40.456368</td>\n",
       "      <td>-79.922573</td>\n",
       "      <td>$1345</td>\n",
       "      <td>https://pittsburgh.craigslist.org/apa/d/close-...</td>\n",
       "    </tr>\n",
       "    <tr>\n",
       "      <th>2</th>\n",
       "      <td>2</td>\n",
       "      <td>2018-02-15</td>\n",
       "      <td>Close Commute to Pitt, CMU, UPMC 2 Bed 1 Bath-...</td>\n",
       "      <td>/ 2br -</td>\n",
       "      <td>40.456368</td>\n",
       "      <td>-79.922573</td>\n",
       "      <td>$1345</td>\n",
       "      <td>https://pittsburgh.craigslist.org/apa/d/close-...</td>\n",
       "    </tr>\n",
       "    <tr>\n",
       "      <th>3</th>\n",
       "      <td>3</td>\n",
       "      <td>2018-02-15</td>\n",
       "      <td>Close Commute to Pitt, CMU, UPMC 2 Bed 1 Bath-...</td>\n",
       "      <td>/ 2br -</td>\n",
       "      <td>40.456368</td>\n",
       "      <td>-79.922573</td>\n",
       "      <td>$1345</td>\n",
       "      <td>https://pittsburgh.craigslist.org/apa/d/close-...</td>\n",
       "    </tr>\n",
       "    <tr>\n",
       "      <th>4</th>\n",
       "      <td>4</td>\n",
       "      <td>2018-02-14</td>\n",
       "      <td>Close to UPMC, CMU, PITT Kenmawr Apartments ON...</td>\n",
       "      <td>/ 2br -</td>\n",
       "      <td>40.456368</td>\n",
       "      <td>-79.922573</td>\n",
       "      <td>$1345</td>\n",
       "      <td>https://pittsburgh.craigslist.org/apa/d/close-...</td>\n",
       "    </tr>\n",
       "  </tbody>\n",
       "</table>\n",
       "</div>"
      ],
      "text/plain": [
       "   Unnamed: 0 Available Date  \\\n",
       "0           0     2018-02-15   \n",
       "1           1     2018-02-15   \n",
       "2           2     2018-02-15   \n",
       "3           3     2018-02-15   \n",
       "4           4     2018-02-14   \n",
       "\n",
       "                                            Headline   Housing   Latitude  \\\n",
       "0  Close Commute to CMU, PITT- 2 Bedroom 2 Bath- ...  / 2br -   40.456368   \n",
       "1  Close Commute to CMU, PITT- 2 Bedroom 1 Bath- ...  / 2br -   40.456368   \n",
       "2  Close Commute to Pitt, CMU, UPMC 2 Bed 1 Bath-...  / 2br -   40.456368   \n",
       "3  Close Commute to Pitt, CMU, UPMC 2 Bed 1 Bath-...  / 2br -   40.456368   \n",
       "4  Close to UPMC, CMU, PITT Kenmawr Apartments ON...  / 2br -   40.456368   \n",
       "\n",
       "   Longitude  Price                                                URL  \n",
       "0 -79.922573  $1545  https://pittsburgh.craigslist.org/apa/d/close-...  \n",
       "1 -79.922573  $1345  https://pittsburgh.craigslist.org/apa/d/close-...  \n",
       "2 -79.922573  $1345  https://pittsburgh.craigslist.org/apa/d/close-...  \n",
       "3 -79.922573  $1345  https://pittsburgh.craigslist.org/apa/d/close-...  \n",
       "4 -79.922573  $1345  https://pittsburgh.craigslist.org/apa/d/close-...  "
      ]
     },
     "execution_count": 35,
     "metadata": {},
     "output_type": "execute_result"
    }
   ],
   "source": [
    "rent_df.head()"
   ]
  },
  {
   "cell_type": "code",
   "execution_count": 36,
   "metadata": {},
   "outputs": [
    {
     "name": "stdout",
     "output_type": "stream",
     "text": [
      "<class 'pandas.core.frame.DataFrame'>\n",
      "RangeIndex: 1200 entries, 0 to 1199\n",
      "Data columns (total 8 columns):\n",
      "Unnamed: 0        1200 non-null int64\n",
      "Available Date    1198 non-null object\n",
      "Headline          1200 non-null object\n",
      "Housing           742 non-null object\n",
      "Latitude          1184 non-null float64\n",
      "Longitude         1184 non-null float64\n",
      "Price             1200 non-null object\n",
      "URL               1200 non-null object\n",
      "dtypes: float64(2), int64(1), object(5)\n",
      "memory usage: 75.1+ KB\n"
     ]
    }
   ],
   "source": [
    "rent_df.info()"
   ]
  },
  {
   "cell_type": "markdown",
   "metadata": {},
   "source": [
    "### Part 2: Data cleaning and preprocessing "
   ]
  },
  {
   "cell_type": "markdown",
   "metadata": {},
   "source": [
    "**part 2.1: Drop duplicate records**"
   ]
  },
  {
   "cell_type": "code",
   "execution_count": 37,
   "metadata": {
    "collapsed": true
   },
   "outputs": [],
   "source": [
    "#drop any dupplicate records according to different headline\n",
    "rent_df = rent_df.drop_duplicates(subset=[\"Headline\"]).reset_index(drop=True)"
   ]
  },
  {
   "cell_type": "markdown",
   "metadata": {},
   "source": [
    "**part 2.2: Transform the 'Housing' variable**"
   ]
  },
  {
   "cell_type": "markdown",
   "metadata": {},
   "source": [
    "Befroe transforming the 'Housing' variable, we have 458 missing records."
   ]
  },
  {
   "cell_type": "code",
   "execution_count": 38,
   "metadata": {},
   "outputs": [
    {
     "data": {
      "text/plain": [
       "348"
      ]
     },
     "execution_count": 38,
     "metadata": {},
     "output_type": "execute_result"
    }
   ],
   "source": [
    "mask = rent_df['Housing'].isnull()\n",
    "len(rent_df[mask]) #length of nan number of housing before importing"
   ]
  },
  {
   "cell_type": "markdown",
   "metadata": {},
   "source": [
    "We will first build a function to extract useful information about housing from 'Headline' column and substitude the information into 'Housing'"
   ]
  },
  {
   "cell_type": "code",
   "execution_count": 39,
   "metadata": {
    "collapsed": true
   },
   "outputs": [],
   "source": [
    "rent_df['Housing'] = rent_df['Housing'].astype(str)\n",
    "\n",
    "pattern = re.compile('([0-9]+)\\s?(bed|bedroom|brd|br|Bedroom|BR)')\n",
    "pattern_bed = re.compile('(..)([0-9]+)\\s*(br)')\n",
    "\n",
    "def convert_housing(row, pattern, pattern_bed):\n",
    "    headline = row['Headline']\n",
    "    housing = row['Housing']\n",
    "    if housing == 'nan':\n",
    "        if bool(pattern.search(headline)):\n",
    "            housing = pattern.search(headline).group(1)\n",
    "            housing = int(housing)\n",
    "            return housing\n",
    "        else:\n",
    "            return('NaN')\n",
    "    else:\n",
    "        housing = pattern_bed.search(housing).group(2)\n",
    "        housing = int(housing)\n",
    "        return housing\n",
    "    \n",
    "rent_df['Housing'] = rent_df.apply(convert_housing, axis=1, pattern=pattern, pattern_bed = pattern_bed)"
   ]
  },
  {
   "cell_type": "markdown",
   "metadata": {},
   "source": [
    "After the frist part transforming, we recovered 154 missing records and there are 304 left"
   ]
  },
  {
   "cell_type": "code",
   "execution_count": 40,
   "metadata": {
    "scrolled": true
   },
   "outputs": [
    {
     "data": {
      "text/plain": [
       "227"
      ]
     },
     "execution_count": 40,
     "metadata": {},
     "output_type": "execute_result"
    }
   ],
   "source": [
    "mask = rent_df['Housing'] == 'NaN'\n",
    "len(rent_df[mask]) #length of nan number after converting"
   ]
  },
  {
   "cell_type": "markdown",
   "metadata": {},
   "source": [
    "Use average number fill in other missing values"
   ]
  },
  {
   "cell_type": "code",
   "execution_count": 41,
   "metadata": {
    "scrolled": false
   },
   "outputs": [
    {
     "name": "stderr",
     "output_type": "stream",
     "text": [
      "/Users/jiaozhuhan/anaconda3/lib/python3.6/site-packages/ipykernel_launcher.py:8: SettingWithCopyWarning: \n",
      "A value is trying to be set on a copy of a slice from a DataFrame\n",
      "\n",
      "See the caveats in the documentation: http://pandas.pydata.org/pandas-docs/stable/indexing.html#indexing-view-versus-copy\n",
      "  \n"
     ]
    }
   ],
   "source": [
    "temp_housing = []\n",
    "for row in rent_df['Housing']:\n",
    "    if row != 'NaN':\n",
    "        temp_housing.append(row)\n",
    "mean_housing = round(np.mean(temp_housing))\n",
    "for i,row in enumerate(rent_df['Housing']):\n",
    "    if row == 'NaN':\n",
    "        rent_df['Housing'][i] = mean_housing"
   ]
  },
  {
   "cell_type": "code",
   "execution_count": 42,
   "metadata": {},
   "outputs": [
    {
     "data": {
      "text/plain": [
       "Unnamed: 0          int64\n",
       "Available Date     object\n",
       "Headline           object\n",
       "Housing             int64\n",
       "Latitude          float64\n",
       "Longitude         float64\n",
       "Price              object\n",
       "URL                object\n",
       "dtype: object"
      ]
     },
     "execution_count": 42,
     "metadata": {},
     "output_type": "execute_result"
    }
   ],
   "source": [
    "#transform housing data type\n",
    "rent_df['Housing'] = rent_df['Housing'].astype(int)\n",
    "rent_df.dtypes"
   ]
  },
  {
   "cell_type": "markdown",
   "metadata": {},
   "source": [
    "**part 2.3: Transform the 'Price' variable**"
   ]
  },
  {
   "cell_type": "code",
   "execution_count": 43,
   "metadata": {
    "collapsed": true
   },
   "outputs": [],
   "source": [
    "#deal with Price variable\n",
    "rent_df['Price'] = rent_df['Price'].astype(str)\n",
    "\n",
    "pattern = re.compile('^\\$\\d*(\\,?\\d{3})*')\n",
    "\n",
    "def convert_money(row, pattern):\n",
    "    price = row['Price']\n",
    "    if bool(pattern.match(price)):\n",
    "        price = price.replace(\"$\", \"\")\n",
    "        price = price.replace(\",\", \"\")\n",
    "        price = float(price)\n",
    "        return price\n",
    "    else:\n",
    "        return(NaN)\n",
    "    \n",
    "rent_df['Price'] = rent_df.apply(convert_money, axis=1, pattern=pattern)"
   ]
  },
  {
   "cell_type": "code",
   "execution_count": 44,
   "metadata": {
    "scrolled": true
   },
   "outputs": [
    {
     "data": {
      "text/plain": [
       "Unnamed: 0          int64\n",
       "Available Date     object\n",
       "Headline           object\n",
       "Housing             int64\n",
       "Latitude          float64\n",
       "Longitude         float64\n",
       "Price             float64\n",
       "URL                object\n",
       "dtype: object"
      ]
     },
     "execution_count": 44,
     "metadata": {},
     "output_type": "execute_result"
    }
   ],
   "source": [
    "#transform price data type\n",
    "rent_df['Price'] = rent_df['Price'].astype(float)\n",
    "rent_df.dtypes"
   ]
  },
  {
   "cell_type": "markdown",
   "metadata": {},
   "source": [
    "**part 2.4: Create the 'Distance' variable based on lattitude and longitude\n",
    "**"
   ]
  },
  {
   "cell_type": "code",
   "execution_count": 45,
   "metadata": {
    "collapsed": true
   },
   "outputs": [],
   "source": [
    "#cmu is on (40.443322, -79.943583)\n",
    "#range: latitude--(40.429331, 40.454349)\n",
    "#range: longitude--(-79.961402, -79.914453)\n",
    "#only concern the apartments inside this area range\n",
    "import math\n",
    "def cal_distance(row):\n",
    "    latitude = row['Latitude']\n",
    "    longitude = row['Longitude']\n",
    "    distance = math.sqrt((latitude-40.443322)**2 + (longitude-(-79.943583))**2)\n",
    "    if latitude >= 40.429331 and latitude <= 40.454349 and longitude >= -79.961402 and longitude <= -79.914453:\n",
    "        return distance  \n",
    "    else:\n",
    "        return(np.nan)\n",
    "rent_df['Distance'] = rent_df.apply(cal_distance, axis=1)"
   ]
  },
  {
   "cell_type": "code",
   "execution_count": 47,
   "metadata": {
    "scrolled": true
   },
   "outputs": [],
   "source": [
    "distance_df = rent_df[['Distance', 'Price']]\n",
    "distance_df = distance_df.dropna(axis=0, how='any')\n",
    "#distance_df"
   ]
  },
  {
   "cell_type": "code",
   "execution_count": 16,
   "metadata": {
    "collapsed": true
   },
   "outputs": [],
   "source": [
    "def distance_level(row):\n",
    "    distance = row['Distance']\n",
    "    interval = (max(distance_df['Distance'])-min(distance_df['Distance']))/3\n",
    "    if distance >= min(distance_df['Distance']) and distance < interval:\n",
    "        level = 1\n",
    "    elif distance >= interval and distance < interval*2:\n",
    "        level = 2\n",
    "    else:\n",
    "        level = 3\n",
    "    return level\n",
    "distance_df['Distance'] = distance_df.apply(distance_level, axis=1)"
   ]
  },
  {
   "cell_type": "markdown",
   "metadata": {},
   "source": [
    "### Part 3: Exploratory data analysis"
   ]
  },
  {
   "cell_type": "markdown",
   "metadata": {},
   "source": [
    "**Part 3.1: Data visualization**"
   ]
  },
  {
   "cell_type": "code",
   "execution_count": 49,
   "metadata": {
    "scrolled": true
   },
   "outputs": [
    {
     "data": {
      "image/png": "[encoded data removed]",
      "text/plain": [
       "<matplotlib.figure.Figure at 0x11e4f6a90>"
      ]
     },
     "metadata": {},
     "output_type": "display_data"
    }
   ],
   "source": [
    "#general price distribution\n",
    "from scipy.stats import norm\n",
    "import matplotlib.mlab as mlab\n",
    "\n",
    "x = rent_df['Price']\n",
    "(mu, sigma) = norm.fit(x)\n",
    "fig, ax = plt.subplots(figsize=(10,8))\n",
    "\n",
    "n, bins, patches = plt.hist(x, 15, normed=1, facecolor='g', alpha=0.75)\n",
    "ax.axvline(np.mean(x), color='b', linestyle='dashed', linewidth=2)\n",
    "\n",
    "# add a 'best fit' line\n",
    "y = mlab.normpdf(bins, mu, sigma)\n",
    "ax.plot(bins, y, '--')\n",
    "\n",
    "plt.xlabel('Price')\n",
    "plt.ylabel('Probability')\n",
    "plt.title('Price Distribution Histogram')\n",
    "plt.grid(True)\n",
    "plt.show()"
   ]
  },
  {
   "cell_type": "markdown",
   "metadata": {},
   "source": [
    "As the above plot shows, the price distribution is skewed to the right. Most of the apartment near CMU has a price between 600 to 2,000. The average price is 1350."
   ]
  },
  {
   "cell_type": "code",
   "execution_count": 50,
   "metadata": {
    "scrolled": true
   },
   "outputs": [
    {
     "data": {
      "image/png": "[encoded data removed]",
      "text/plain": [
       "<matplotlib.figure.Figure at 0x11e12e128>"
      ]
     },
     "metadata": {},
     "output_type": "display_data"
    }
   ],
   "source": [
    "#price distribution by housing plan\n",
    "\n",
    "x=rent_df['Housing']\n",
    "y=rent_df['Price']\n",
    "\n",
    "plt.figure(figsize=(10,8))\n",
    "plt.bar(x,y,color='green')\n",
    "\n",
    "plt.grid(True)\n",
    "plt.xlabel('Number of bedroom')\n",
    "plt.ylabel('Price')\n",
    "plt.title('Price Distribution by Housing')\n",
    "plt.show()"
   ]
  },
  {
   "cell_type": "code",
   "execution_count": 51,
   "metadata": {},
   "outputs": [
    {
     "data": {
      "image/png": "[encoded data removed]",
      "text/plain": [
       "<matplotlib.figure.Figure at 0x11d2bd6d8>"
      ]
     },
     "metadata": {},
     "output_type": "display_data"
    }
   ],
   "source": [
    "#price distribution by housing per bedroom\n",
    "#add another variable 'Price_per_bed'\n",
    "rent_df['Price_per_bed'] = rent_df['Price']/rent_df['Housing']\n",
    "\n",
    "x = rent_df['Housing']\n",
    "y = rent_df['Price_per_bed']\n",
    "\n",
    "plt.figure(figsize=(10,8))\n",
    "plt.bar(x,y,color='green')\n",
    "plt.xlabel('Number of bedroom')\n",
    "plt.ylabel('Price per bedroom')\n",
    "plt.title('Price (per bedroom) Distribution by Housing')\n",
    "plt.grid(True)\n",
    "plt.show()"
   ]
  },
  {
   "cell_type": "markdown",
   "metadata": {},
   "source": [
    "**Part 3.2: Time series analysis**"
   ]
  },
  {
   "cell_type": "code",
   "execution_count": 52,
   "metadata": {
    "scrolled": true
   },
   "outputs": [
    {
     "data": {
      "image/png": "[encoded data removed]",
      "text/plain": [
       "<matplotlib.figure.Figure at 0x1191e6c50>"
      ]
     },
     "metadata": {},
     "output_type": "display_data"
    }
   ],
   "source": [
    "import matplotlib.pylab as plb\n",
    "\n",
    "rent_df['Available Date'] = pd.to_datetime(rent_df['Available Date'])\n",
    "#rent_df['Month'] = rent_df['Available Date'].dt.month\n",
    "\n",
    "df = pd.DataFrame(columns=('Available Date', 'Price'),data=rent_df)\n",
    "df = df.sort_values(by=['Available Date'])\n",
    "\n",
    "dates = np.array(df['Available Date'])\n",
    "price = np.array(df['Price'])\n",
    "\n",
    "price_series = Series(price, index=dates)\n",
    "plt.figure(figsize=(10,8))\n",
    "price_series['2018-01-01':'2018-12-01'].plot(style='k.')\n",
    "plt.ylim(0, 5000)\n",
    "plt.xticks(rotation = 35)\n",
    "plt.xlabel('Available Date')\n",
    "plt.ylabel('Price')\n",
    "plt.title('Price Time Series')\n",
    "plt.show()"
   ]
  },
  {
   "cell_type": "markdown",
   "metadata": {},
   "source": [
    "**Part 3: Regression analysis:**\n"
   ]
  },
  {
   "cell_type": "code",
   "execution_count": 28,
   "metadata": {
    "scrolled": true
   },
   "outputs": [
    {
     "data": {
      "text/html": [
       "<table class=\"simpletable\">\n",
       "<caption>OLS Regression Results</caption>\n",
       "<tr>\n",
       "  <th>Dep. Variable:</th>          <td>Price</td>      <th>  R-squared:         </th> <td>   0.426</td> \n",
       "</tr>\n",
       "<tr>\n",
       "  <th>Model:</th>                   <td>OLS</td>       <th>  Adj. R-squared:    </th> <td>   0.421</td> \n",
       "</tr>\n",
       "<tr>\n",
       "  <th>Method:</th>             <td>Least Squares</td>  <th>  F-statistic:       </th> <td>   88.94</td> \n",
       "</tr>\n",
       "<tr>\n",
       "  <th>Date:</th>             <td>Sat, 03 Mar 2018</td> <th>  Prob (F-statistic):</th> <td>2.36e-83</td> \n",
       "</tr>\n",
       "<tr>\n",
       "  <th>Time:</th>                 <td>18:22:06</td>     <th>  Log-Likelihood:    </th> <td> -5418.6</td> \n",
       "</tr>\n",
       "<tr>\n",
       "  <th>No. Observations:</th>      <td>   727</td>      <th>  AIC:               </th> <td>1.085e+04</td>\n",
       "</tr>\n",
       "<tr>\n",
       "  <th>Df Residuals:</th>          <td>   720</td>      <th>  BIC:               </th> <td>1.088e+04</td>\n",
       "</tr>\n",
       "<tr>\n",
       "  <th>Df Model:</th>              <td>     6</td>      <th>                     </th>     <td> </td>    \n",
       "</tr>\n",
       "<tr>\n",
       "  <th>Covariance Type:</th>      <td>nonrobust</td>    <th>                     </th>     <td> </td>    \n",
       "</tr>\n",
       "</table>\n",
       "<table class=\"simpletable\">\n",
       "<tr>\n",
       "         <td></td>            <th>coef</th>     <th>std err</th>      <th>t</th>      <th>P>|t|</th>  <th>[0.025</th>    <th>0.975]</th>  \n",
       "</tr>\n",
       "<tr>\n",
       "  <th>Intercept</th>       <td> 1004.1942</td> <td>   35.587</td> <td>   28.218</td> <td> 0.000</td> <td>  934.328</td> <td> 1074.061</td>\n",
       "</tr>\n",
       "<tr>\n",
       "  <th>C(Housing)[T.2]</th> <td>  265.5210</td> <td>   40.757</td> <td>    6.515</td> <td> 0.000</td> <td>  185.504</td> <td>  345.538</td>\n",
       "</tr>\n",
       "<tr>\n",
       "  <th>C(Housing)[T.3]</th> <td>  726.0662</td> <td>   55.679</td> <td>   13.040</td> <td> 0.000</td> <td>  616.754</td> <td>  835.378</td>\n",
       "</tr>\n",
       "<tr>\n",
       "  <th>C(Housing)[T.4]</th> <td> 1040.5558</td> <td>   86.910</td> <td>   11.973</td> <td> 0.000</td> <td>  869.928</td> <td> 1211.183</td>\n",
       "</tr>\n",
       "<tr>\n",
       "  <th>C(Housing)[T.5]</th> <td> 1453.0280</td> <td>  144.311</td> <td>   10.069</td> <td> 0.000</td> <td> 1169.707</td> <td> 1736.349</td>\n",
       "</tr>\n",
       "<tr>\n",
       "  <th>C(Housing)[T.6]</th> <td> 2385.8058</td> <td>  152.547</td> <td>   15.640</td> <td> 0.000</td> <td> 2086.315</td> <td> 2685.297</td>\n",
       "</tr>\n",
       "<tr>\n",
       "  <th>C(Housing)[T.7]</th> <td> 1995.8058</td> <td>  421.071</td> <td>    4.740</td> <td> 0.000</td> <td> 1169.133</td> <td> 2822.479</td>\n",
       "</tr>\n",
       "</table>\n",
       "<table class=\"simpletable\">\n",
       "<tr>\n",
       "  <th>Omnibus:</th>       <td>295.147</td> <th>  Durbin-Watson:     </th> <td>   1.581</td>\n",
       "</tr>\n",
       "<tr>\n",
       "  <th>Prob(Omnibus):</th> <td> 0.000</td>  <th>  Jarque-Bera (JB):  </th> <td>2023.988</td>\n",
       "</tr>\n",
       "<tr>\n",
       "  <th>Skew:</th>          <td> 1.672</td>  <th>  Prob(JB):          </th> <td>    0.00</td>\n",
       "</tr>\n",
       "<tr>\n",
       "  <th>Kurtosis:</th>      <td>10.459</td>  <th>  Cond. No.          </th> <td>    32.7</td>\n",
       "</tr>\n",
       "</table>"
      ],
      "text/plain": [
       "<class 'statsmodels.iolib.summary.Summary'>\n",
       "\"\"\"\n",
       "                            OLS Regression Results                            \n",
       "==============================================================================\n",
       "Dep. Variable:                  Price   R-squared:                       0.426\n",
       "Model:                            OLS   Adj. R-squared:                  0.421\n",
       "Method:                 Least Squares   F-statistic:                     88.94\n",
       "Date:                Sat, 03 Mar 2018   Prob (F-statistic):           2.36e-83\n",
       "Time:                        18:22:06   Log-Likelihood:                -5418.6\n",
       "No. Observations:                 727   AIC:                         1.085e+04\n",
       "Df Residuals:                     720   BIC:                         1.088e+04\n",
       "Df Model:                           6                                         \n",
       "Covariance Type:            nonrobust                                         \n",
       "===================================================================================\n",
       "                      coef    std err          t      P>|t|      [0.025      0.975]\n",
       "-----------------------------------------------------------------------------------\n",
       "Intercept        1004.1942     35.587     28.218      0.000     934.328    1074.061\n",
       "C(Housing)[T.2]   265.5210     40.757      6.515      0.000     185.504     345.538\n",
       "C(Housing)[T.3]   726.0662     55.679     13.040      0.000     616.754     835.378\n",
       "C(Housing)[T.4]  1040.5558     86.910     11.973      0.000     869.928    1211.183\n",
       "C(Housing)[T.5]  1453.0280    144.311     10.069      0.000    1169.707    1736.349\n",
       "C(Housing)[T.6]  2385.8058    152.547     15.640      0.000    2086.315    2685.297\n",
       "C(Housing)[T.7]  1995.8058    421.071      4.740      0.000    1169.133    2822.479\n",
       "==============================================================================\n",
       "Omnibus:                      295.147   Durbin-Watson:                   1.581\n",
       "Prob(Omnibus):                  0.000   Jarque-Bera (JB):             2023.988\n",
       "Skew:                           1.672   Prob(JB):                         0.00\n",
       "Kurtosis:                      10.459   Cond. No.                         32.7\n",
       "==============================================================================\n",
       "\n",
       "Warnings:\n",
       "[1] Standard Errors assume that the covariance matrix of the errors is correctly specified.\n",
       "\"\"\""
      ]
     },
     "execution_count": 28,
     "metadata": {},
     "output_type": "execute_result"
    }
   ],
   "source": [
    "#regress price on housing\n",
    "import statsmodels.formula.api as smf\n",
    "model_1 = smf.ols(formula = 'Price ~ C(Housing)', data = rent_df)\n",
    "results_model1 = model_1.fit()\n",
    "results_model1.summary()"
   ]
  },
  {
   "cell_type": "code",
   "execution_count": 29,
   "metadata": {
    "collapsed": true
   },
   "outputs": [],
   "source": [
    "rent_df['Price_per_bed'] = rent_df['Price_per_bed'].astype(int)\n",
    "#rent_df.info()"
   ]
  },
  {
   "cell_type": "code",
   "execution_count": 30,
   "metadata": {},
   "outputs": [
    {
     "data": {
      "text/html": [
       "<table class=\"simpletable\">\n",
       "<caption>OLS Regression Results</caption>\n",
       "<tr>\n",
       "  <th>Dep. Variable:</th>      <td>Price_per_bed</td>  <th>  R-squared:         </th> <td>   0.350</td>\n",
       "</tr>\n",
       "<tr>\n",
       "  <th>Model:</th>                   <td>OLS</td>       <th>  Adj. R-squared:    </th> <td>   0.345</td>\n",
       "</tr>\n",
       "<tr>\n",
       "  <th>Method:</th>             <td>Least Squares</td>  <th>  F-statistic:       </th> <td>   64.69</td>\n",
       "</tr>\n",
       "<tr>\n",
       "  <th>Date:</th>             <td>Sat, 03 Mar 2018</td> <th>  Prob (F-statistic):</th> <td>3.09e-64</td>\n",
       "</tr>\n",
       "<tr>\n",
       "  <th>Time:</th>                 <td>18:22:09</td>     <th>  Log-Likelihood:    </th> <td> -4929.1</td>\n",
       "</tr>\n",
       "<tr>\n",
       "  <th>No. Observations:</th>      <td>   727</td>      <th>  AIC:               </th> <td>   9872.</td>\n",
       "</tr>\n",
       "<tr>\n",
       "  <th>Df Residuals:</th>          <td>   720</td>      <th>  BIC:               </th> <td>   9904.</td>\n",
       "</tr>\n",
       "<tr>\n",
       "  <th>Df Model:</th>              <td>     6</td>      <th>                     </th>     <td> </td>   \n",
       "</tr>\n",
       "<tr>\n",
       "  <th>Covariance Type:</th>      <td>nonrobust</td>    <th>                     </th>     <td> </td>   \n",
       "</tr>\n",
       "</table>\n",
       "<table class=\"simpletable\">\n",
       "<tr>\n",
       "         <td></td>            <th>coef</th>     <th>std err</th>      <th>t</th>      <th>P>|t|</th>  <th>[0.025</th>    <th>0.975]</th>  \n",
       "</tr>\n",
       "<tr>\n",
       "  <th>Intercept</th>       <td> 1004.1942</td> <td>   18.150</td> <td>   55.328</td> <td> 0.000</td> <td>  968.561</td> <td> 1039.827</td>\n",
       "</tr>\n",
       "<tr>\n",
       "  <th>C(Housing)[T.2]</th> <td> -369.5754</td> <td>   20.787</td> <td>  -17.779</td> <td> 0.000</td> <td> -410.385</td> <td> -328.766</td>\n",
       "</tr>\n",
       "<tr>\n",
       "  <th>C(Housing)[T.3]</th> <td> -427.6942</td> <td>   28.397</td> <td>  -15.061</td> <td> 0.000</td> <td> -483.445</td> <td> -371.943</td>\n",
       "</tr>\n",
       "<tr>\n",
       "  <th>C(Housing)[T.4]</th> <td> -493.3371</td> <td>   44.326</td> <td>  -11.130</td> <td> 0.000</td> <td> -580.360</td> <td> -406.314</td>\n",
       "</tr>\n",
       "<tr>\n",
       "  <th>C(Housing)[T.5]</th> <td> -512.7498</td> <td>   73.601</td> <td>   -6.967</td> <td> 0.000</td> <td> -657.248</td> <td> -368.251</td>\n",
       "</tr>\n",
       "<tr>\n",
       "  <th>C(Housing)[T.6]</th> <td> -439.4442</td> <td>   77.802</td> <td>   -5.648</td> <td> 0.000</td> <td> -592.189</td> <td> -286.699</td>\n",
       "</tr>\n",
       "<tr>\n",
       "  <th>C(Housing)[T.7]</th> <td> -576.1942</td> <td>  214.753</td> <td>   -2.683</td> <td> 0.007</td> <td> -997.811</td> <td> -154.577</td>\n",
       "</tr>\n",
       "</table>\n",
       "<table class=\"simpletable\">\n",
       "<tr>\n",
       "  <th>Omnibus:</th>       <td>296.471</td> <th>  Durbin-Watson:     </th> <td>   1.585</td>\n",
       "</tr>\n",
       "<tr>\n",
       "  <th>Prob(Omnibus):</th> <td> 0.000</td>  <th>  Jarque-Bera (JB):  </th> <td>1974.641</td>\n",
       "</tr>\n",
       "<tr>\n",
       "  <th>Skew:</th>          <td> 1.691</td>  <th>  Prob(JB):          </th> <td>    0.00</td>\n",
       "</tr>\n",
       "<tr>\n",
       "  <th>Kurtosis:</th>      <td>10.331</td>  <th>  Cond. No.          </th> <td>    32.7</td>\n",
       "</tr>\n",
       "</table>"
      ],
      "text/plain": [
       "<class 'statsmodels.iolib.summary.Summary'>\n",
       "\"\"\"\n",
       "                            OLS Regression Results                            \n",
       "==============================================================================\n",
       "Dep. Variable:          Price_per_bed   R-squared:                       0.350\n",
       "Model:                            OLS   Adj. R-squared:                  0.345\n",
       "Method:                 Least Squares   F-statistic:                     64.69\n",
       "Date:                Sat, 03 Mar 2018   Prob (F-statistic):           3.09e-64\n",
       "Time:                        18:22:09   Log-Likelihood:                -4929.1\n",
       "No. Observations:                 727   AIC:                             9872.\n",
       "Df Residuals:                     720   BIC:                             9904.\n",
       "Df Model:                           6                                         \n",
       "Covariance Type:            nonrobust                                         \n",
       "===================================================================================\n",
       "                      coef    std err          t      P>|t|      [0.025      0.975]\n",
       "-----------------------------------------------------------------------------------\n",
       "Intercept        1004.1942     18.150     55.328      0.000     968.561    1039.827\n",
       "C(Housing)[T.2]  -369.5754     20.787    -17.779      0.000    -410.385    -328.766\n",
       "C(Housing)[T.3]  -427.6942     28.397    -15.061      0.000    -483.445    -371.943\n",
       "C(Housing)[T.4]  -493.3371     44.326    -11.130      0.000    -580.360    -406.314\n",
       "C(Housing)[T.5]  -512.7498     73.601     -6.967      0.000    -657.248    -368.251\n",
       "C(Housing)[T.6]  -439.4442     77.802     -5.648      0.000    -592.189    -286.699\n",
       "C(Housing)[T.7]  -576.1942    214.753     -2.683      0.007    -997.811    -154.577\n",
       "==============================================================================\n",
       "Omnibus:                      296.471   Durbin-Watson:                   1.585\n",
       "Prob(Omnibus):                  0.000   Jarque-Bera (JB):             1974.641\n",
       "Skew:                           1.691   Prob(JB):                         0.00\n",
       "Kurtosis:                      10.331   Cond. No.                         32.7\n",
       "==============================================================================\n",
       "\n",
       "Warnings:\n",
       "[1] Standard Errors assume that the covariance matrix of the errors is correctly specified.\n",
       "\"\"\""
      ]
     },
     "execution_count": 30,
     "metadata": {},
     "output_type": "execute_result"
    }
   ],
   "source": [
    "#regress price per bedroom on housing\n",
    "model_2 = smf.ols(formula = 'Price_per_bed ~ C(Housing)', data = rent_df)\n",
    "results_model2 = model_2.fit()\n",
    "results_model2.summary()"
   ]
  },
  {
   "cell_type": "code",
   "execution_count": 31,
   "metadata": {},
   "outputs": [
    {
     "data": {
      "text/html": [
       "<table class=\"simpletable\">\n",
       "<caption>OLS Regression Results</caption>\n",
       "<tr>\n",
       "  <th>Dep. Variable:</th>          <td>Price</td>      <th>  R-squared:         </th> <td>   0.005</td>\n",
       "</tr>\n",
       "<tr>\n",
       "  <th>Model:</th>                   <td>OLS</td>       <th>  Adj. R-squared:    </th> <td>   0.001</td>\n",
       "</tr>\n",
       "<tr>\n",
       "  <th>Method:</th>             <td>Least Squares</td>  <th>  F-statistic:       </th> <td>   1.184</td>\n",
       "</tr>\n",
       "<tr>\n",
       "  <th>Date:</th>             <td>Sat, 03 Mar 2018</td> <th>  Prob (F-statistic):</th>  <td> 0.307</td> \n",
       "</tr>\n",
       "<tr>\n",
       "  <th>Time:</th>                 <td>18:22:11</td>     <th>  Log-Likelihood:    </th> <td> -3823.1</td>\n",
       "</tr>\n",
       "<tr>\n",
       "  <th>No. Observations:</th>      <td>   491</td>      <th>  AIC:               </th> <td>   7652.</td>\n",
       "</tr>\n",
       "<tr>\n",
       "  <th>Df Residuals:</th>          <td>   488</td>      <th>  BIC:               </th> <td>   7665.</td>\n",
       "</tr>\n",
       "<tr>\n",
       "  <th>Df Model:</th>              <td>     2</td>      <th>                     </th>     <td> </td>   \n",
       "</tr>\n",
       "<tr>\n",
       "  <th>Covariance Type:</th>      <td>nonrobust</td>    <th>                     </th>     <td> </td>   \n",
       "</tr>\n",
       "</table>\n",
       "<table class=\"simpletable\">\n",
       "<tr>\n",
       "          <td></td>            <th>coef</th>     <th>std err</th>      <th>t</th>      <th>P>|t|</th>  <th>[0.025</th>    <th>0.975]</th>  \n",
       "</tr>\n",
       "<tr>\n",
       "  <th>Intercept</th>        <td> 1330.6667</td> <td>  150.880</td> <td>    8.819</td> <td> 0.000</td> <td> 1034.212</td> <td> 1627.121</td>\n",
       "</tr>\n",
       "<tr>\n",
       "  <th>C(Distance)[T.2]</th> <td>  120.9642</td> <td>  154.631</td> <td>    0.782</td> <td> 0.434</td> <td> -182.860</td> <td>  424.789</td>\n",
       "</tr>\n",
       "<tr>\n",
       "  <th>C(Distance)[T.3]</th> <td>   42.4625</td> <td>  157.109</td> <td>    0.270</td> <td> 0.787</td> <td> -266.231</td> <td>  351.156</td>\n",
       "</tr>\n",
       "</table>\n",
       "<table class=\"simpletable\">\n",
       "<tr>\n",
       "  <th>Omnibus:</th>       <td>162.112</td> <th>  Durbin-Watson:     </th> <td>   1.522</td> \n",
       "</tr>\n",
       "<tr>\n",
       "  <th>Prob(Omnibus):</th> <td> 0.000</td>  <th>  Jarque-Bera (JB):  </th> <td> 489.436</td> \n",
       "</tr>\n",
       "<tr>\n",
       "  <th>Skew:</th>          <td> 1.571</td>  <th>  Prob(JB):          </th> <td>5.25e-107</td>\n",
       "</tr>\n",
       "<tr>\n",
       "  <th>Kurtosis:</th>      <td> 6.749</td>  <th>  Cond. No.          </th> <td>    12.3</td> \n",
       "</tr>\n",
       "</table>"
      ],
      "text/plain": [
       "<class 'statsmodels.iolib.summary.Summary'>\n",
       "\"\"\"\n",
       "                            OLS Regression Results                            \n",
       "==============================================================================\n",
       "Dep. Variable:                  Price   R-squared:                       0.005\n",
       "Model:                            OLS   Adj. R-squared:                  0.001\n",
       "Method:                 Least Squares   F-statistic:                     1.184\n",
       "Date:                Sat, 03 Mar 2018   Prob (F-statistic):              0.307\n",
       "Time:                        18:22:11   Log-Likelihood:                -3823.1\n",
       "No. Observations:                 491   AIC:                             7652.\n",
       "Df Residuals:                     488   BIC:                             7665.\n",
       "Df Model:                           2                                         \n",
       "Covariance Type:            nonrobust                                         \n",
       "====================================================================================\n",
       "                       coef    std err          t      P>|t|      [0.025      0.975]\n",
       "------------------------------------------------------------------------------------\n",
       "Intercept         1330.6667    150.880      8.819      0.000    1034.212    1627.121\n",
       "C(Distance)[T.2]   120.9642    154.631      0.782      0.434    -182.860     424.789\n",
       "C(Distance)[T.3]    42.4625    157.109      0.270      0.787    -266.231     351.156\n",
       "==============================================================================\n",
       "Omnibus:                      162.112   Durbin-Watson:                   1.522\n",
       "Prob(Omnibus):                  0.000   Jarque-Bera (JB):              489.436\n",
       "Skew:                           1.571   Prob(JB):                    5.25e-107\n",
       "Kurtosis:                       6.749   Cond. No.                         12.3\n",
       "==============================================================================\n",
       "\n",
       "Warnings:\n",
       "[1] Standard Errors assume that the covariance matrix of the errors is correctly specified.\n",
       "\"\"\""
      ]
     },
     "execution_count": 31,
     "metadata": {},
     "output_type": "execute_result"
    }
   ],
   "source": [
    "#regess price on distance\n",
    "model_3 = smf.ols(formula = 'Price ~ C(Distance)', data = distance_df)\n",
    "results_model3 = model_3.fit()\n",
    "results_model3.summary()"
   ]
  },
  {
   "cell_type": "code",
   "execution_count": 32,
   "metadata": {
    "scrolled": true
   },
   "outputs": [
    {
     "data": {
      "text/html": [
       "<table class=\"simpletable\">\n",
       "<caption>OLS Regression Results</caption>\n",
       "<tr>\n",
       "  <th>Dep. Variable:</th>          <td>Price</td>      <th>  R-squared:         </th> <td>   0.020</td> \n",
       "</tr>\n",
       "<tr>\n",
       "  <th>Model:</th>                   <td>OLS</td>       <th>  Adj. R-squared:    </th> <td>   0.007</td> \n",
       "</tr>\n",
       "<tr>\n",
       "  <th>Method:</th>             <td>Least Squares</td>  <th>  F-statistic:       </th> <td>   1.491</td> \n",
       "</tr>\n",
       "<tr>\n",
       "  <th>Date:</th>             <td>Sat, 03 Mar 2018</td> <th>  Prob (F-statistic):</th>  <td> 0.138</td>  \n",
       "</tr>\n",
       "<tr>\n",
       "  <th>Time:</th>                 <td>18:22:11</td>     <th>  Log-Likelihood:    </th> <td> -5605.3</td> \n",
       "</tr>\n",
       "<tr>\n",
       "  <th>No. Observations:</th>      <td>   726</td>      <th>  AIC:               </th> <td>1.123e+04</td>\n",
       "</tr>\n",
       "<tr>\n",
       "  <th>Df Residuals:</th>          <td>   715</td>      <th>  BIC:               </th> <td>1.128e+04</td>\n",
       "</tr>\n",
       "<tr>\n",
       "  <th>Df Model:</th>              <td>    10</td>      <th>                     </th>     <td> </td>    \n",
       "</tr>\n",
       "<tr>\n",
       "  <th>Covariance Type:</th>      <td>nonrobust</td>    <th>                     </th>     <td> </td>    \n",
       "</tr>\n",
       "</table>\n",
       "<table class=\"simpletable\">\n",
       "<tr>\n",
       "          <td></td>            <th>coef</th>     <th>std err</th>      <th>t</th>      <th>P>|t|</th>  <th>[0.025</th>    <th>0.975]</th>  \n",
       "</tr>\n",
       "<tr>\n",
       "  <th>Intercept</th>        <td> 1371.3684</td> <td>   89.190</td> <td>   15.376</td> <td> 0.000</td> <td> 1196.263</td> <td> 1546.474</td>\n",
       "</tr>\n",
       "<tr>\n",
       "  <th>C(Month)[T.2.0]</th>  <td>  -57.9469</td> <td>  104.491</td> <td>   -0.555</td> <td> 0.579</td> <td> -263.093</td> <td>  147.199</td>\n",
       "</tr>\n",
       "<tr>\n",
       "  <th>C(Month)[T.3.0]</th>  <td> -138.8684</td> <td>  127.873</td> <td>   -1.086</td> <td> 0.278</td> <td> -389.921</td> <td>  112.184</td>\n",
       "</tr>\n",
       "<tr>\n",
       "  <th>C(Month)[T.4.0]</th>  <td> -324.5502</td> <td>  147.292</td> <td>   -2.203</td> <td> 0.028</td> <td> -613.727</td> <td>  -35.373</td>\n",
       "</tr>\n",
       "<tr>\n",
       "  <th>C(Month)[T.5.0]</th>  <td>    5.0358</td> <td>  119.943</td> <td>    0.042</td> <td> 0.967</td> <td> -230.448</td> <td>  240.519</td>\n",
       "</tr>\n",
       "<tr>\n",
       "  <th>C(Month)[T.6.0]</th>  <td>   75.5847</td> <td>  112.597</td> <td>    0.671</td> <td> 0.502</td> <td> -145.475</td> <td>  296.645</td>\n",
       "</tr>\n",
       "<tr>\n",
       "  <th>C(Month)[T.7.0]</th>  <td>    2.9173</td> <td>  136.933</td> <td>    0.021</td> <td> 0.983</td> <td> -265.922</td> <td>  271.757</td>\n",
       "</tr>\n",
       "<tr>\n",
       "  <th>C(Month)[T.8.0]</th>  <td>   -4.5528</td> <td>   93.488</td> <td>   -0.049</td> <td> 0.961</td> <td> -188.097</td> <td>  178.991</td>\n",
       "</tr>\n",
       "<tr>\n",
       "  <th>C(Month)[T.9.0]</th>  <td> -557.3684</td> <td>  398.870</td> <td>   -1.397</td> <td> 0.163</td> <td>-1340.464</td> <td>  225.727</td>\n",
       "</tr>\n",
       "<tr>\n",
       "  <th>C(Month)[T.11.0]</th> <td> -471.3684</td> <td>  556.991</td> <td>   -0.846</td> <td> 0.398</td> <td>-1564.902</td> <td>  622.165</td>\n",
       "</tr>\n",
       "<tr>\n",
       "  <th>C(Month)[T.12.0]</th> <td>  523.6316</td> <td>  556.991</td> <td>    0.940</td> <td> 0.347</td> <td> -569.902</td> <td> 1617.165</td>\n",
       "</tr>\n",
       "</table>\n",
       "<table class=\"simpletable\">\n",
       "<tr>\n",
       "  <th>Omnibus:</th>       <td>249.713</td> <th>  Durbin-Watson:     </th> <td>   1.652</td> \n",
       "</tr>\n",
       "<tr>\n",
       "  <th>Prob(Omnibus):</th> <td> 0.000</td>  <th>  Jarque-Bera (JB):  </th> <td> 850.996</td> \n",
       "</tr>\n",
       "<tr>\n",
       "  <th>Skew:</th>          <td> 1.637</td>  <th>  Prob(JB):          </th> <td>1.62e-185</td>\n",
       "</tr>\n",
       "<tr>\n",
       "  <th>Kurtosis:</th>      <td> 7.172</td>  <th>  Cond. No.          </th> <td>    32.6</td> \n",
       "</tr>\n",
       "</table>"
      ],
      "text/plain": [
       "<class 'statsmodels.iolib.summary.Summary'>\n",
       "\"\"\"\n",
       "                            OLS Regression Results                            \n",
       "==============================================================================\n",
       "Dep. Variable:                  Price   R-squared:                       0.020\n",
       "Model:                            OLS   Adj. R-squared:                  0.007\n",
       "Method:                 Least Squares   F-statistic:                     1.491\n",
       "Date:                Sat, 03 Mar 2018   Prob (F-statistic):              0.138\n",
       "Time:                        18:22:11   Log-Likelihood:                -5605.3\n",
       "No. Observations:                 726   AIC:                         1.123e+04\n",
       "Df Residuals:                     715   BIC:                         1.128e+04\n",
       "Df Model:                          10                                         \n",
       "Covariance Type:            nonrobust                                         \n",
       "====================================================================================\n",
       "                       coef    std err          t      P>|t|      [0.025      0.975]\n",
       "------------------------------------------------------------------------------------\n",
       "Intercept         1371.3684     89.190     15.376      0.000    1196.263    1546.474\n",
       "C(Month)[T.2.0]    -57.9469    104.491     -0.555      0.579    -263.093     147.199\n",
       "C(Month)[T.3.0]   -138.8684    127.873     -1.086      0.278    -389.921     112.184\n",
       "C(Month)[T.4.0]   -324.5502    147.292     -2.203      0.028    -613.727     -35.373\n",
       "C(Month)[T.5.0]      5.0358    119.943      0.042      0.967    -230.448     240.519\n",
       "C(Month)[T.6.0]     75.5847    112.597      0.671      0.502    -145.475     296.645\n",
       "C(Month)[T.7.0]      2.9173    136.933      0.021      0.983    -265.922     271.757\n",
       "C(Month)[T.8.0]     -4.5528     93.488     -0.049      0.961    -188.097     178.991\n",
       "C(Month)[T.9.0]   -557.3684    398.870     -1.397      0.163   -1340.464     225.727\n",
       "C(Month)[T.11.0]  -471.3684    556.991     -0.846      0.398   -1564.902     622.165\n",
       "C(Month)[T.12.0]   523.6316    556.991      0.940      0.347    -569.902    1617.165\n",
       "==============================================================================\n",
       "Omnibus:                      249.713   Durbin-Watson:                   1.652\n",
       "Prob(Omnibus):                  0.000   Jarque-Bera (JB):              850.996\n",
       "Skew:                           1.637   Prob(JB):                    1.62e-185\n",
       "Kurtosis:                       7.172   Cond. No.                         32.6\n",
       "==============================================================================\n",
       "\n",
       "Warnings:\n",
       "[1] Standard Errors assume that the covariance matrix of the errors is correctly specified.\n",
       "\"\"\""
      ]
     },
     "execution_count": 32,
     "metadata": {},
     "output_type": "execute_result"
    }
   ],
   "source": [
    "model_3 = smf.ols(formula = 'Price ~ C(Month)', data = rent_df)\n",
    "results_model3 = model_3.fit()\n",
    "results_model3.summary()"
   ]
  },
  {
   "cell_type": "markdown",
   "metadata": {},
   "source": [
    "The above three regression models show that only 'Housing' and 'Month' are significant influencer of price, so the final model is as the the following."
   ]
  },
  {
   "cell_type": "code",
   "execution_count": 33,
   "metadata": {
    "scrolled": true
   },
   "outputs": [
    {
     "data": {
      "text/html": [
       "<table class=\"simpletable\">\n",
       "<caption>OLS Regression Results</caption>\n",
       "<tr>\n",
       "  <th>Dep. Variable:</th>          <td>Price</td>      <th>  R-squared:         </th> <td>   0.445</td> \n",
       "</tr>\n",
       "<tr>\n",
       "  <th>Model:</th>                   <td>OLS</td>       <th>  Adj. R-squared:    </th> <td>   0.433</td> \n",
       "</tr>\n",
       "<tr>\n",
       "  <th>Method:</th>             <td>Least Squares</td>  <th>  F-statistic:       </th> <td>   35.59</td> \n",
       "</tr>\n",
       "<tr>\n",
       "  <th>Date:</th>             <td>Sat, 03 Mar 2018</td> <th>  Prob (F-statistic):</th> <td>9.10e-80</td> \n",
       "</tr>\n",
       "<tr>\n",
       "  <th>Time:</th>                 <td>18:22:13</td>     <th>  Log-Likelihood:    </th> <td> -5398.8</td> \n",
       "</tr>\n",
       "<tr>\n",
       "  <th>No. Observations:</th>      <td>   726</td>      <th>  AIC:               </th> <td>1.083e+04</td>\n",
       "</tr>\n",
       "<tr>\n",
       "  <th>Df Residuals:</th>          <td>   709</td>      <th>  BIC:               </th> <td>1.091e+04</td>\n",
       "</tr>\n",
       "<tr>\n",
       "  <th>Df Model:</th>              <td>    16</td>      <th>                     </th>     <td> </td>    \n",
       "</tr>\n",
       "<tr>\n",
       "  <th>Covariance Type:</th>      <td>nonrobust</td>    <th>                     </th>     <td> </td>    \n",
       "</tr>\n",
       "</table>\n",
       "<table class=\"simpletable\">\n",
       "<tr>\n",
       "          <td></td>            <th>coef</th>     <th>std err</th>      <th>t</th>      <th>P>|t|</th>  <th>[0.025</th>    <th>0.975]</th>  \n",
       "</tr>\n",
       "<tr>\n",
       "  <th>Intercept</th>        <td> 1049.8034</td> <td>   74.295</td> <td>   14.130</td> <td> 0.000</td> <td>  903.939</td> <td> 1195.668</td>\n",
       "</tr>\n",
       "<tr>\n",
       "  <th>C(Housing)[T.2]</th>  <td>  260.6047</td> <td>   40.600</td> <td>    6.419</td> <td> 0.000</td> <td>  180.894</td> <td>  340.315</td>\n",
       "</tr>\n",
       "<tr>\n",
       "  <th>C(Housing)[T.3]</th>  <td>  723.2321</td> <td>   55.338</td> <td>   13.069</td> <td> 0.000</td> <td>  614.586</td> <td>  831.878</td>\n",
       "</tr>\n",
       "<tr>\n",
       "  <th>C(Housing)[T.4]</th>  <td> 1073.3881</td> <td>   88.267</td> <td>   12.161</td> <td> 0.000</td> <td>  900.092</td> <td> 1246.684</td>\n",
       "</tr>\n",
       "<tr>\n",
       "  <th>C(Housing)[T.5]</th>  <td> 1447.0666</td> <td>  143.654</td> <td>   10.073</td> <td> 0.000</td> <td> 1165.028</td> <td> 1729.105</td>\n",
       "</tr>\n",
       "<tr>\n",
       "  <th>C(Housing)[T.6]</th>  <td> 2392.0379</td> <td>  151.699</td> <td>   15.768</td> <td> 0.000</td> <td> 2094.205</td> <td> 2689.870</td>\n",
       "</tr>\n",
       "<tr>\n",
       "  <th>C(Housing)[T.7]</th>  <td> 2110.4702</td> <td>  422.201</td> <td>    4.999</td> <td> 0.000</td> <td> 1281.557</td> <td> 2939.384</td>\n",
       "</tr>\n",
       "<tr>\n",
       "  <th>C(Month)[T.2.0]</th>  <td>    2.4654</td> <td>   79.076</td> <td>    0.031</td> <td> 0.975</td> <td> -152.787</td> <td>  157.717</td>\n",
       "</tr>\n",
       "<tr>\n",
       "  <th>C(Month)[T.3.0]</th>  <td> -160.2735</td> <td>   97.600</td> <td>   -1.642</td> <td> 0.101</td> <td> -351.893</td> <td>   31.346</td>\n",
       "</tr>\n",
       "<tr>\n",
       "  <th>C(Month)[T.4.0]</th>  <td> -246.4186</td> <td>  111.430</td> <td>   -2.211</td> <td> 0.027</td> <td> -465.190</td> <td>  -27.647</td>\n",
       "</tr>\n",
       "<tr>\n",
       "  <th>C(Month)[T.5.0]</th>  <td>  -32.1188</td> <td>   90.893</td> <td>   -0.353</td> <td> 0.724</td> <td> -210.571</td> <td>  146.334</td>\n",
       "</tr>\n",
       "<tr>\n",
       "  <th>C(Month)[T.6.0]</th>  <td>    0.7376</td> <td>   85.430</td> <td>    0.009</td> <td> 0.993</td> <td> -166.988</td> <td>  168.463</td>\n",
       "</tr>\n",
       "<tr>\n",
       "  <th>C(Month)[T.7.0]</th>  <td>   62.9392</td> <td>  103.565</td> <td>    0.608</td> <td> 0.544</td> <td> -140.391</td> <td>  266.269</td>\n",
       "</tr>\n",
       "<tr>\n",
       "  <th>C(Month)[T.8.0]</th>  <td>  -51.1864</td> <td>   70.720</td> <td>   -0.724</td> <td> 0.469</td> <td> -190.033</td> <td>   87.660</td>\n",
       "</tr>\n",
       "<tr>\n",
       "  <th>C(Month)[T.9.0]</th>  <td> -496.4081</td> <td>  301.692</td> <td>   -1.645</td> <td> 0.100</td> <td>-1088.725</td> <td>   95.908</td>\n",
       "</tr>\n",
       "<tr>\n",
       "  <th>C(Month)[T.11.0]</th> <td>-1223.1915</td> <td>  427.993</td> <td>   -2.858</td> <td> 0.004</td> <td>-2063.476</td> <td> -382.907</td>\n",
       "</tr>\n",
       "<tr>\n",
       "  <th>C(Month)[T.12.0]</th> <td>  584.5919</td> <td>  421.077</td> <td>    1.388</td> <td> 0.165</td> <td> -242.116</td> <td> 1411.300</td>\n",
       "</tr>\n",
       "</table>\n",
       "<table class=\"simpletable\">\n",
       "<tr>\n",
       "  <th>Omnibus:</th>       <td>305.488</td> <th>  Durbin-Watson:     </th> <td>   1.628</td>\n",
       "</tr>\n",
       "<tr>\n",
       "  <th>Prob(Omnibus):</th> <td> 0.000</td>  <th>  Jarque-Bera (JB):  </th> <td>2179.333</td>\n",
       "</tr>\n",
       "<tr>\n",
       "  <th>Skew:</th>          <td> 1.731</td>  <th>  Prob(JB):          </th> <td>    0.00</td>\n",
       "</tr>\n",
       "<tr>\n",
       "  <th>Kurtosis:</th>      <td>10.750</td>  <th>  Cond. No.          </th> <td>    37.7</td>\n",
       "</tr>\n",
       "</table>"
      ],
      "text/plain": [
       "<class 'statsmodels.iolib.summary.Summary'>\n",
       "\"\"\"\n",
       "                            OLS Regression Results                            \n",
       "==============================================================================\n",
       "Dep. Variable:                  Price   R-squared:                       0.445\n",
       "Model:                            OLS   Adj. R-squared:                  0.433\n",
       "Method:                 Least Squares   F-statistic:                     35.59\n",
       "Date:                Sat, 03 Mar 2018   Prob (F-statistic):           9.10e-80\n",
       "Time:                        18:22:13   Log-Likelihood:                -5398.8\n",
       "No. Observations:                 726   AIC:                         1.083e+04\n",
       "Df Residuals:                     709   BIC:                         1.091e+04\n",
       "Df Model:                          16                                         \n",
       "Covariance Type:            nonrobust                                         \n",
       "====================================================================================\n",
       "                       coef    std err          t      P>|t|      [0.025      0.975]\n",
       "------------------------------------------------------------------------------------\n",
       "Intercept         1049.8034     74.295     14.130      0.000     903.939    1195.668\n",
       "C(Housing)[T.2]    260.6047     40.600      6.419      0.000     180.894     340.315\n",
       "C(Housing)[T.3]    723.2321     55.338     13.069      0.000     614.586     831.878\n",
       "C(Housing)[T.4]   1073.3881     88.267     12.161      0.000     900.092    1246.684\n",
       "C(Housing)[T.5]   1447.0666    143.654     10.073      0.000    1165.028    1729.105\n",
       "C(Housing)[T.6]   2392.0379    151.699     15.768      0.000    2094.205    2689.870\n",
       "C(Housing)[T.7]   2110.4702    422.201      4.999      0.000    1281.557    2939.384\n",
       "C(Month)[T.2.0]      2.4654     79.076      0.031      0.975    -152.787     157.717\n",
       "C(Month)[T.3.0]   -160.2735     97.600     -1.642      0.101    -351.893      31.346\n",
       "C(Month)[T.4.0]   -246.4186    111.430     -2.211      0.027    -465.190     -27.647\n",
       "C(Month)[T.5.0]    -32.1188     90.893     -0.353      0.724    -210.571     146.334\n",
       "C(Month)[T.6.0]      0.7376     85.430      0.009      0.993    -166.988     168.463\n",
       "C(Month)[T.7.0]     62.9392    103.565      0.608      0.544    -140.391     266.269\n",
       "C(Month)[T.8.0]    -51.1864     70.720     -0.724      0.469    -190.033      87.660\n",
       "C(Month)[T.9.0]   -496.4081    301.692     -1.645      0.100   -1088.725      95.908\n",
       "C(Month)[T.11.0] -1223.1915    427.993     -2.858      0.004   -2063.476    -382.907\n",
       "C(Month)[T.12.0]   584.5919    421.077      1.388      0.165    -242.116    1411.300\n",
       "==============================================================================\n",
       "Omnibus:                      305.488   Durbin-Watson:                   1.628\n",
       "Prob(Omnibus):                  0.000   Jarque-Bera (JB):             2179.333\n",
       "Skew:                           1.731   Prob(JB):                         0.00\n",
       "Kurtosis:                      10.750   Cond. No.                         37.7\n",
       "==============================================================================\n",
       "\n",
       "Warnings:\n",
       "[1] Standard Errors assume that the covariance matrix of the errors is correctly specified.\n",
       "\"\"\""
      ]
     },
     "execution_count": 33,
     "metadata": {},
     "output_type": "execute_result"
    }
   ],
   "source": [
    "#Final regression model for prediction\n",
    "model_4 = smf.ols(formula = 'Price ~ C(Housing) + C(Month)', data = rent_df)\n",
    "results_model4 = model_4.fit()\n",
    "results_model4.summary()"
   ]
  }
 ],
 "metadata": {
  "kernelspec": {
   "display_name": "Python 3",
   "language": "python",
   "name": "python3"
  },
  "language_info": {
   "codemirror_mode": {
    "name": "ipython",
    "version": 3
   },
   "file_extension": ".py",
   "mimetype": "text/x-python",
   "name": "python",
   "nbconvert_exporter": "python",
   "pygments_lexer": "ipython3",
   "version": "3.6.3"
  }
 },
 "nbformat": 4,
 "nbformat_minor": 2
}
